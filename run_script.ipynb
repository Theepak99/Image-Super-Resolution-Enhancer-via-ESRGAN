{
 "metadata": {
  "language_info": {
   "codemirror_mode": {
    "name": "ipython",
    "version": 3
   },
   "file_extension": ".py",
   "mimetype": "text/x-python",
   "name": "python",
   "nbconvert_exporter": "python",
   "pygments_lexer": "ipython3",
   "version": "3.7.6-final"
  },
  "orig_nbformat": 2,
  "kernelspec": {
   "name": "python_defaultSpec_1599126394502",
   "display_name": "Python 3.7.6 64-bit ('uj255': virtualenv)"
  }
 },
 "nbformat": 4,
 "nbformat_minor": 2,
 "cells": [
  {
   "cell_type": "code",
   "execution_count": 3,
   "metadata": {},
   "outputs": [],
   "source": [
    "import torch"
   ]
  },
  {
   "cell_type": "code",
   "execution_count": 4,
   "metadata": {
    "tags": []
   },
   "outputs": [],
   "source": [
    "lr_dir_train = 'data/DIV2K_train_LR_mild/DIV2K_train_LR_mild/'\n",
    "hr_dir_train = 'data/DIV2K_train_HR/DIV2K_train_HR/'\n",
    "lr_dir_test = 'data/DIV2K_valid_LR_mild/' \n",
    "hr_dir_test = 'data/DIV2K_valid_HR/DIV2K_valid_HR/'\n",
    "hr_length = 512\n",
    "lr_length = hr_length // 4\n",
    "saved_image_directory = 'data/saved_images'\n",
    "saved_model_directory = 'saved_models'\n",
    "batch_size = 4\n",
    "lambda_adv = 5e-3\n",
    "lambda_pixel = 1e-2\n",
    "b1 = 0.9\n",
    "b2 = 0.999\n",
    "channels = 3\n",
    "feature_space = 64\n",
    "device = 'cuda' if torch.cuda.is_available() else 'cpu'\n",
    "lr = 0.0002\n",
    "num_workers = 1\n",
    "epochs = 200\n",
    "\n",
    "!python train.py --lr_dir_train=$lr_dir_train --hr_dir_train=$hr_dir_train --lr_dir_test=$lr_dir_test --hr_dir_test=$hr_dir_test --lr_length=$lr_length --hr_length=$hr_length --saved_image_directory=$saved_image_directory --saved_model_directory=$saved_model_directory --batch_size=$batch_size --lambda_adv=$lambda_adv --lambda_pixel=$lambda_pixel --b1=$b1 --b2=$b2 --channels=$channels --feature_space=$feature_space --device=$device --lr=$lr --num_workers=$num_workers --epochs=$epochs"
   ]
  },
  {
   "cell_type": "code",
   "execution_count": null,
   "metadata": {},
   "outputs": [],
   "source": []
  }
 ]
}